{
  "nbformat": 4,
  "nbformat_minor": 0,
  "metadata": {
    "colab": {
      "provenance": []
    },
    "kernelspec": {
      "name": "python3",
      "display_name": "Python 3"
    },
    "language_info": {
      "name": "python"
    }
  },
  "cells": [
    {
      "cell_type": "code",
      "execution_count": 3,
      "metadata": {
        "colab": {
          "base_uri": "https://localhost:8080/",
          "height": 262
        },
        "id": "9hNHSlQziC5_",
        "outputId": "b3e0f723-750d-4506-f07e-d64d141af38e"
      },
      "outputs": [
        {
          "output_type": "display_data",
          "data": {
            "text/plain": [
              "<IPython.core.display.HTML object>"
            ],
            "text/html": [
              "\n",
              "     <input type=\"file\" id=\"files-48348d52-7f06-4aed-be42-99133d27702f\" name=\"files[]\" multiple disabled\n",
              "        style=\"border:none\" />\n",
              "     <output id=\"result-48348d52-7f06-4aed-be42-99133d27702f\">\n",
              "      Upload widget is only available when the cell has been executed in the\n",
              "      current browser session. Please rerun this cell to enable.\n",
              "      </output>\n",
              "      <script>// Copyright 2017 Google LLC\n",
              "//\n",
              "// Licensed under the Apache License, Version 2.0 (the \"License\");\n",
              "// you may not use this file except in compliance with the License.\n",
              "// You may obtain a copy of the License at\n",
              "//\n",
              "//      http://www.apache.org/licenses/LICENSE-2.0\n",
              "//\n",
              "// Unless required by applicable law or agreed to in writing, software\n",
              "// distributed under the License is distributed on an \"AS IS\" BASIS,\n",
              "// WITHOUT WARRANTIES OR CONDITIONS OF ANY KIND, either express or implied.\n",
              "// See the License for the specific language governing permissions and\n",
              "// limitations under the License.\n",
              "\n",
              "/**\n",
              " * @fileoverview Helpers for google.colab Python module.\n",
              " */\n",
              "(function(scope) {\n",
              "function span(text, styleAttributes = {}) {\n",
              "  const element = document.createElement('span');\n",
              "  element.textContent = text;\n",
              "  for (const key of Object.keys(styleAttributes)) {\n",
              "    element.style[key] = styleAttributes[key];\n",
              "  }\n",
              "  return element;\n",
              "}\n",
              "\n",
              "// Max number of bytes which will be uploaded at a time.\n",
              "const MAX_PAYLOAD_SIZE = 100 * 1024;\n",
              "\n",
              "function _uploadFiles(inputId, outputId) {\n",
              "  const steps = uploadFilesStep(inputId, outputId);\n",
              "  const outputElement = document.getElementById(outputId);\n",
              "  // Cache steps on the outputElement to make it available for the next call\n",
              "  // to uploadFilesContinue from Python.\n",
              "  outputElement.steps = steps;\n",
              "\n",
              "  return _uploadFilesContinue(outputId);\n",
              "}\n",
              "\n",
              "// This is roughly an async generator (not supported in the browser yet),\n",
              "// where there are multiple asynchronous steps and the Python side is going\n",
              "// to poll for completion of each step.\n",
              "// This uses a Promise to block the python side on completion of each step,\n",
              "// then passes the result of the previous step as the input to the next step.\n",
              "function _uploadFilesContinue(outputId) {\n",
              "  const outputElement = document.getElementById(outputId);\n",
              "  const steps = outputElement.steps;\n",
              "\n",
              "  const next = steps.next(outputElement.lastPromiseValue);\n",
              "  return Promise.resolve(next.value.promise).then((value) => {\n",
              "    // Cache the last promise value to make it available to the next\n",
              "    // step of the generator.\n",
              "    outputElement.lastPromiseValue = value;\n",
              "    return next.value.response;\n",
              "  });\n",
              "}\n",
              "\n",
              "/**\n",
              " * Generator function which is called between each async step of the upload\n",
              " * process.\n",
              " * @param {string} inputId Element ID of the input file picker element.\n",
              " * @param {string} outputId Element ID of the output display.\n",
              " * @return {!Iterable<!Object>} Iterable of next steps.\n",
              " */\n",
              "function* uploadFilesStep(inputId, outputId) {\n",
              "  const inputElement = document.getElementById(inputId);\n",
              "  inputElement.disabled = false;\n",
              "\n",
              "  const outputElement = document.getElementById(outputId);\n",
              "  outputElement.innerHTML = '';\n",
              "\n",
              "  const pickedPromise = new Promise((resolve) => {\n",
              "    inputElement.addEventListener('change', (e) => {\n",
              "      resolve(e.target.files);\n",
              "    });\n",
              "  });\n",
              "\n",
              "  const cancel = document.createElement('button');\n",
              "  inputElement.parentElement.appendChild(cancel);\n",
              "  cancel.textContent = 'Cancel upload';\n",
              "  const cancelPromise = new Promise((resolve) => {\n",
              "    cancel.onclick = () => {\n",
              "      resolve(null);\n",
              "    };\n",
              "  });\n",
              "\n",
              "  // Wait for the user to pick the files.\n",
              "  const files = yield {\n",
              "    promise: Promise.race([pickedPromise, cancelPromise]),\n",
              "    response: {\n",
              "      action: 'starting',\n",
              "    }\n",
              "  };\n",
              "\n",
              "  cancel.remove();\n",
              "\n",
              "  // Disable the input element since further picks are not allowed.\n",
              "  inputElement.disabled = true;\n",
              "\n",
              "  if (!files) {\n",
              "    return {\n",
              "      response: {\n",
              "        action: 'complete',\n",
              "      }\n",
              "    };\n",
              "  }\n",
              "\n",
              "  for (const file of files) {\n",
              "    const li = document.createElement('li');\n",
              "    li.append(span(file.name, {fontWeight: 'bold'}));\n",
              "    li.append(span(\n",
              "        `(${file.type || 'n/a'}) - ${file.size} bytes, ` +\n",
              "        `last modified: ${\n",
              "            file.lastModifiedDate ? file.lastModifiedDate.toLocaleDateString() :\n",
              "                                    'n/a'} - `));\n",
              "    const percent = span('0% done');\n",
              "    li.appendChild(percent);\n",
              "\n",
              "    outputElement.appendChild(li);\n",
              "\n",
              "    const fileDataPromise = new Promise((resolve) => {\n",
              "      const reader = new FileReader();\n",
              "      reader.onload = (e) => {\n",
              "        resolve(e.target.result);\n",
              "      };\n",
              "      reader.readAsArrayBuffer(file);\n",
              "    });\n",
              "    // Wait for the data to be ready.\n",
              "    let fileData = yield {\n",
              "      promise: fileDataPromise,\n",
              "      response: {\n",
              "        action: 'continue',\n",
              "      }\n",
              "    };\n",
              "\n",
              "    // Use a chunked sending to avoid message size limits. See b/62115660.\n",
              "    let position = 0;\n",
              "    do {\n",
              "      const length = Math.min(fileData.byteLength - position, MAX_PAYLOAD_SIZE);\n",
              "      const chunk = new Uint8Array(fileData, position, length);\n",
              "      position += length;\n",
              "\n",
              "      const base64 = btoa(String.fromCharCode.apply(null, chunk));\n",
              "      yield {\n",
              "        response: {\n",
              "          action: 'append',\n",
              "          file: file.name,\n",
              "          data: base64,\n",
              "        },\n",
              "      };\n",
              "\n",
              "      let percentDone = fileData.byteLength === 0 ?\n",
              "          100 :\n",
              "          Math.round((position / fileData.byteLength) * 100);\n",
              "      percent.textContent = `${percentDone}% done`;\n",
              "\n",
              "    } while (position < fileData.byteLength);\n",
              "  }\n",
              "\n",
              "  // All done.\n",
              "  yield {\n",
              "    response: {\n",
              "      action: 'complete',\n",
              "    }\n",
              "  };\n",
              "}\n",
              "\n",
              "scope.google = scope.google || {};\n",
              "scope.google.colab = scope.google.colab || {};\n",
              "scope.google.colab._files = {\n",
              "  _uploadFiles,\n",
              "  _uploadFilesContinue,\n",
              "};\n",
              "})(self);\n",
              "</script> "
            ]
          },
          "metadata": {}
        },
        {
          "output_type": "stream",
          "name": "stdout",
          "text": [
            "Saving Titanic-Dataset (1).csv to Titanic-Dataset (1).csv\n"
          ]
        },
        {
          "output_type": "execute_result",
          "data": {
            "text/plain": [
              "   PassengerId  Survived  Pclass  \\\n",
              "0            1         0       3   \n",
              "1            2         1       1   \n",
              "2            3         1       3   \n",
              "3            4         1       1   \n",
              "4            5         0       3   \n",
              "\n",
              "                                                Name     Sex   Age  SibSp  \\\n",
              "0                            Braund, Mr. Owen Harris    male  22.0      1   \n",
              "1  Cumings, Mrs. John Bradley (Florence Briggs Th...  female  38.0      1   \n",
              "2                             Heikkinen, Miss. Laina  female  26.0      0   \n",
              "3       Futrelle, Mrs. Jacques Heath (Lily May Peel)  female  35.0      1   \n",
              "4                           Allen, Mr. William Henry    male  35.0      0   \n",
              "\n",
              "   Parch            Ticket     Fare Cabin Embarked  \n",
              "0      0         A/5 21171   7.2500   NaN        S  \n",
              "1      0          PC 17599  71.2833   C85        C  \n",
              "2      0  STON/O2. 3101282   7.9250   NaN        S  \n",
              "3      0            113803  53.1000  C123        S  \n",
              "4      0            373450   8.0500   NaN        S  "
            ],
            "text/html": [
              "\n",
              "  <div id=\"df-2c56eb67-cd27-42b0-a992-48b742a28baa\" class=\"colab-df-container\">\n",
              "    <div>\n",
              "<style scoped>\n",
              "    .dataframe tbody tr th:only-of-type {\n",
              "        vertical-align: middle;\n",
              "    }\n",
              "\n",
              "    .dataframe tbody tr th {\n",
              "        vertical-align: top;\n",
              "    }\n",
              "\n",
              "    .dataframe thead th {\n",
              "        text-align: right;\n",
              "    }\n",
              "</style>\n",
              "<table border=\"1\" class=\"dataframe\">\n",
              "  <thead>\n",
              "    <tr style=\"text-align: right;\">\n",
              "      <th></th>\n",
              "      <th>PassengerId</th>\n",
              "      <th>Survived</th>\n",
              "      <th>Pclass</th>\n",
              "      <th>Name</th>\n",
              "      <th>Sex</th>\n",
              "      <th>Age</th>\n",
              "      <th>SibSp</th>\n",
              "      <th>Parch</th>\n",
              "      <th>Ticket</th>\n",
              "      <th>Fare</th>\n",
              "      <th>Cabin</th>\n",
              "      <th>Embarked</th>\n",
              "    </tr>\n",
              "  </thead>\n",
              "  <tbody>\n",
              "    <tr>\n",
              "      <th>0</th>\n",
              "      <td>1</td>\n",
              "      <td>0</td>\n",
              "      <td>3</td>\n",
              "      <td>Braund, Mr. Owen Harris</td>\n",
              "      <td>male</td>\n",
              "      <td>22.0</td>\n",
              "      <td>1</td>\n",
              "      <td>0</td>\n",
              "      <td>A/5 21171</td>\n",
              "      <td>7.2500</td>\n",
              "      <td>NaN</td>\n",
              "      <td>S</td>\n",
              "    </tr>\n",
              "    <tr>\n",
              "      <th>1</th>\n",
              "      <td>2</td>\n",
              "      <td>1</td>\n",
              "      <td>1</td>\n",
              "      <td>Cumings, Mrs. John Bradley (Florence Briggs Th...</td>\n",
              "      <td>female</td>\n",
              "      <td>38.0</td>\n",
              "      <td>1</td>\n",
              "      <td>0</td>\n",
              "      <td>PC 17599</td>\n",
              "      <td>71.2833</td>\n",
              "      <td>C85</td>\n",
              "      <td>C</td>\n",
              "    </tr>\n",
              "    <tr>\n",
              "      <th>2</th>\n",
              "      <td>3</td>\n",
              "      <td>1</td>\n",
              "      <td>3</td>\n",
              "      <td>Heikkinen, Miss. Laina</td>\n",
              "      <td>female</td>\n",
              "      <td>26.0</td>\n",
              "      <td>0</td>\n",
              "      <td>0</td>\n",
              "      <td>STON/O2. 3101282</td>\n",
              "      <td>7.9250</td>\n",
              "      <td>NaN</td>\n",
              "      <td>S</td>\n",
              "    </tr>\n",
              "    <tr>\n",
              "      <th>3</th>\n",
              "      <td>4</td>\n",
              "      <td>1</td>\n",
              "      <td>1</td>\n",
              "      <td>Futrelle, Mrs. Jacques Heath (Lily May Peel)</td>\n",
              "      <td>female</td>\n",
              "      <td>35.0</td>\n",
              "      <td>1</td>\n",
              "      <td>0</td>\n",
              "      <td>113803</td>\n",
              "      <td>53.1000</td>\n",
              "      <td>C123</td>\n",
              "      <td>S</td>\n",
              "    </tr>\n",
              "    <tr>\n",
              "      <th>4</th>\n",
              "      <td>5</td>\n",
              "      <td>0</td>\n",
              "      <td>3</td>\n",
              "      <td>Allen, Mr. William Henry</td>\n",
              "      <td>male</td>\n",
              "      <td>35.0</td>\n",
              "      <td>0</td>\n",
              "      <td>0</td>\n",
              "      <td>373450</td>\n",
              "      <td>8.0500</td>\n",
              "      <td>NaN</td>\n",
              "      <td>S</td>\n",
              "    </tr>\n",
              "  </tbody>\n",
              "</table>\n",
              "</div>\n",
              "    <div class=\"colab-df-buttons\">\n",
              "\n",
              "  <div class=\"colab-df-container\">\n",
              "    <button class=\"colab-df-convert\" onclick=\"convertToInteractive('df-2c56eb67-cd27-42b0-a992-48b742a28baa')\"\n",
              "            title=\"Convert this dataframe to an interactive table.\"\n",
              "            style=\"display:none;\">\n",
              "\n",
              "  <svg xmlns=\"http://www.w3.org/2000/svg\" height=\"24px\" viewBox=\"0 -960 960 960\">\n",
              "    <path d=\"M120-120v-720h720v720H120Zm60-500h600v-160H180v160Zm220 220h160v-160H400v160Zm0 220h160v-160H400v160ZM180-400h160v-160H180v160Zm440 0h160v-160H620v160ZM180-180h160v-160H180v160Zm440 0h160v-160H620v160Z\"/>\n",
              "  </svg>\n",
              "    </button>\n",
              "\n",
              "  <style>\n",
              "    .colab-df-container {\n",
              "      display:flex;\n",
              "      gap: 12px;\n",
              "    }\n",
              "\n",
              "    .colab-df-convert {\n",
              "      background-color: #E8F0FE;\n",
              "      border: none;\n",
              "      border-radius: 50%;\n",
              "      cursor: pointer;\n",
              "      display: none;\n",
              "      fill: #1967D2;\n",
              "      height: 32px;\n",
              "      padding: 0 0 0 0;\n",
              "      width: 32px;\n",
              "    }\n",
              "\n",
              "    .colab-df-convert:hover {\n",
              "      background-color: #E2EBFA;\n",
              "      box-shadow: 0px 1px 2px rgba(60, 64, 67, 0.3), 0px 1px 3px 1px rgba(60, 64, 67, 0.15);\n",
              "      fill: #174EA6;\n",
              "    }\n",
              "\n",
              "    .colab-df-buttons div {\n",
              "      margin-bottom: 4px;\n",
              "    }\n",
              "\n",
              "    [theme=dark] .colab-df-convert {\n",
              "      background-color: #3B4455;\n",
              "      fill: #D2E3FC;\n",
              "    }\n",
              "\n",
              "    [theme=dark] .colab-df-convert:hover {\n",
              "      background-color: #434B5C;\n",
              "      box-shadow: 0px 1px 3px 1px rgba(0, 0, 0, 0.15);\n",
              "      filter: drop-shadow(0px 1px 2px rgba(0, 0, 0, 0.3));\n",
              "      fill: #FFFFFF;\n",
              "    }\n",
              "  </style>\n",
              "\n",
              "    <script>\n",
              "      const buttonEl =\n",
              "        document.querySelector('#df-2c56eb67-cd27-42b0-a992-48b742a28baa button.colab-df-convert');\n",
              "      buttonEl.style.display =\n",
              "        google.colab.kernel.accessAllowed ? 'block' : 'none';\n",
              "\n",
              "      async function convertToInteractive(key) {\n",
              "        const element = document.querySelector('#df-2c56eb67-cd27-42b0-a992-48b742a28baa');\n",
              "        const dataTable =\n",
              "          await google.colab.kernel.invokeFunction('convertToInteractive',\n",
              "                                                    [key], {});\n",
              "        if (!dataTable) return;\n",
              "\n",
              "        const docLinkHtml = 'Like what you see? Visit the ' +\n",
              "          '<a target=\"_blank\" href=https://colab.research.google.com/notebooks/data_table.ipynb>data table notebook</a>'\n",
              "          + ' to learn more about interactive tables.';\n",
              "        element.innerHTML = '';\n",
              "        dataTable['output_type'] = 'display_data';\n",
              "        await google.colab.output.renderOutput(dataTable, element);\n",
              "        const docLink = document.createElement('div');\n",
              "        docLink.innerHTML = docLinkHtml;\n",
              "        element.appendChild(docLink);\n",
              "      }\n",
              "    </script>\n",
              "  </div>\n",
              "\n",
              "\n",
              "    <div id=\"df-9c731c1a-8d9e-4ba8-a444-749b2de385f1\">\n",
              "      <button class=\"colab-df-quickchart\" onclick=\"quickchart('df-9c731c1a-8d9e-4ba8-a444-749b2de385f1')\"\n",
              "                title=\"Suggest charts\"\n",
              "                style=\"display:none;\">\n",
              "\n",
              "<svg xmlns=\"http://www.w3.org/2000/svg\" height=\"24px\"viewBox=\"0 0 24 24\"\n",
              "     width=\"24px\">\n",
              "    <g>\n",
              "        <path d=\"M19 3H5c-1.1 0-2 .9-2 2v14c0 1.1.9 2 2 2h14c1.1 0 2-.9 2-2V5c0-1.1-.9-2-2-2zM9 17H7v-7h2v7zm4 0h-2V7h2v10zm4 0h-2v-4h2v4z\"/>\n",
              "    </g>\n",
              "</svg>\n",
              "      </button>\n",
              "\n",
              "<style>\n",
              "  .colab-df-quickchart {\n",
              "      --bg-color: #E8F0FE;\n",
              "      --fill-color: #1967D2;\n",
              "      --hover-bg-color: #E2EBFA;\n",
              "      --hover-fill-color: #174EA6;\n",
              "      --disabled-fill-color: #AAA;\n",
              "      --disabled-bg-color: #DDD;\n",
              "  }\n",
              "\n",
              "  [theme=dark] .colab-df-quickchart {\n",
              "      --bg-color: #3B4455;\n",
              "      --fill-color: #D2E3FC;\n",
              "      --hover-bg-color: #434B5C;\n",
              "      --hover-fill-color: #FFFFFF;\n",
              "      --disabled-bg-color: #3B4455;\n",
              "      --disabled-fill-color: #666;\n",
              "  }\n",
              "\n",
              "  .colab-df-quickchart {\n",
              "    background-color: var(--bg-color);\n",
              "    border: none;\n",
              "    border-radius: 50%;\n",
              "    cursor: pointer;\n",
              "    display: none;\n",
              "    fill: var(--fill-color);\n",
              "    height: 32px;\n",
              "    padding: 0;\n",
              "    width: 32px;\n",
              "  }\n",
              "\n",
              "  .colab-df-quickchart:hover {\n",
              "    background-color: var(--hover-bg-color);\n",
              "    box-shadow: 0 1px 2px rgba(60, 64, 67, 0.3), 0 1px 3px 1px rgba(60, 64, 67, 0.15);\n",
              "    fill: var(--button-hover-fill-color);\n",
              "  }\n",
              "\n",
              "  .colab-df-quickchart-complete:disabled,\n",
              "  .colab-df-quickchart-complete:disabled:hover {\n",
              "    background-color: var(--disabled-bg-color);\n",
              "    fill: var(--disabled-fill-color);\n",
              "    box-shadow: none;\n",
              "  }\n",
              "\n",
              "  .colab-df-spinner {\n",
              "    border: 2px solid var(--fill-color);\n",
              "    border-color: transparent;\n",
              "    border-bottom-color: var(--fill-color);\n",
              "    animation:\n",
              "      spin 1s steps(1) infinite;\n",
              "  }\n",
              "\n",
              "  @keyframes spin {\n",
              "    0% {\n",
              "      border-color: transparent;\n",
              "      border-bottom-color: var(--fill-color);\n",
              "      border-left-color: var(--fill-color);\n",
              "    }\n",
              "    20% {\n",
              "      border-color: transparent;\n",
              "      border-left-color: var(--fill-color);\n",
              "      border-top-color: var(--fill-color);\n",
              "    }\n",
              "    30% {\n",
              "      border-color: transparent;\n",
              "      border-left-color: var(--fill-color);\n",
              "      border-top-color: var(--fill-color);\n",
              "      border-right-color: var(--fill-color);\n",
              "    }\n",
              "    40% {\n",
              "      border-color: transparent;\n",
              "      border-right-color: var(--fill-color);\n",
              "      border-top-color: var(--fill-color);\n",
              "    }\n",
              "    60% {\n",
              "      border-color: transparent;\n",
              "      border-right-color: var(--fill-color);\n",
              "    }\n",
              "    80% {\n",
              "      border-color: transparent;\n",
              "      border-right-color: var(--fill-color);\n",
              "      border-bottom-color: var(--fill-color);\n",
              "    }\n",
              "    90% {\n",
              "      border-color: transparent;\n",
              "      border-bottom-color: var(--fill-color);\n",
              "    }\n",
              "  }\n",
              "</style>\n",
              "\n",
              "      <script>\n",
              "        async function quickchart(key) {\n",
              "          const quickchartButtonEl =\n",
              "            document.querySelector('#' + key + ' button');\n",
              "          quickchartButtonEl.disabled = true;  // To prevent multiple clicks.\n",
              "          quickchartButtonEl.classList.add('colab-df-spinner');\n",
              "          try {\n",
              "            const charts = await google.colab.kernel.invokeFunction(\n",
              "                'suggestCharts', [key], {});\n",
              "          } catch (error) {\n",
              "            console.error('Error during call to suggestCharts:', error);\n",
              "          }\n",
              "          quickchartButtonEl.classList.remove('colab-df-spinner');\n",
              "          quickchartButtonEl.classList.add('colab-df-quickchart-complete');\n",
              "        }\n",
              "        (() => {\n",
              "          let quickchartButtonEl =\n",
              "            document.querySelector('#df-9c731c1a-8d9e-4ba8-a444-749b2de385f1 button');\n",
              "          quickchartButtonEl.style.display =\n",
              "            google.colab.kernel.accessAllowed ? 'block' : 'none';\n",
              "        })();\n",
              "      </script>\n",
              "    </div>\n",
              "\n",
              "    </div>\n",
              "  </div>\n"
            ],
            "application/vnd.google.colaboratory.intrinsic+json": {
              "type": "dataframe",
              "variable_name": "df",
              "summary": "{\n  \"name\": \"df\",\n  \"rows\": 891,\n  \"fields\": [\n    {\n      \"column\": \"PassengerId\",\n      \"properties\": {\n        \"dtype\": \"number\",\n        \"std\": 257,\n        \"min\": 1,\n        \"max\": 891,\n        \"num_unique_values\": 891,\n        \"samples\": [\n          710,\n          440,\n          841\n        ],\n        \"semantic_type\": \"\",\n        \"description\": \"\"\n      }\n    },\n    {\n      \"column\": \"Survived\",\n      \"properties\": {\n        \"dtype\": \"number\",\n        \"std\": 0,\n        \"min\": 0,\n        \"max\": 1,\n        \"num_unique_values\": 2,\n        \"samples\": [\n          1,\n          0\n        ],\n        \"semantic_type\": \"\",\n        \"description\": \"\"\n      }\n    },\n    {\n      \"column\": \"Pclass\",\n      \"properties\": {\n        \"dtype\": \"number\",\n        \"std\": 0,\n        \"min\": 1,\n        \"max\": 3,\n        \"num_unique_values\": 3,\n        \"samples\": [\n          3,\n          1\n        ],\n        \"semantic_type\": \"\",\n        \"description\": \"\"\n      }\n    },\n    {\n      \"column\": \"Name\",\n      \"properties\": {\n        \"dtype\": \"string\",\n        \"num_unique_values\": 891,\n        \"samples\": [\n          \"Moubarek, Master. Halim Gonios (\\\"William George\\\")\",\n          \"Kvillner, Mr. Johan Henrik Johannesson\"\n        ],\n        \"semantic_type\": \"\",\n        \"description\": \"\"\n      }\n    },\n    {\n      \"column\": \"Sex\",\n      \"properties\": {\n        \"dtype\": \"category\",\n        \"num_unique_values\": 2,\n        \"samples\": [\n          \"female\",\n          \"male\"\n        ],\n        \"semantic_type\": \"\",\n        \"description\": \"\"\n      }\n    },\n    {\n      \"column\": \"Age\",\n      \"properties\": {\n        \"dtype\": \"number\",\n        \"std\": 14.526497332334044,\n        \"min\": 0.42,\n        \"max\": 80.0,\n        \"num_unique_values\": 88,\n        \"samples\": [\n          0.75,\n          22.0\n        ],\n        \"semantic_type\": \"\",\n        \"description\": \"\"\n      }\n    },\n    {\n      \"column\": \"SibSp\",\n      \"properties\": {\n        \"dtype\": \"number\",\n        \"std\": 1,\n        \"min\": 0,\n        \"max\": 8,\n        \"num_unique_values\": 7,\n        \"samples\": [\n          1,\n          0\n        ],\n        \"semantic_type\": \"\",\n        \"description\": \"\"\n      }\n    },\n    {\n      \"column\": \"Parch\",\n      \"properties\": {\n        \"dtype\": \"number\",\n        \"std\": 0,\n        \"min\": 0,\n        \"max\": 6,\n        \"num_unique_values\": 7,\n        \"samples\": [\n          0,\n          1\n        ],\n        \"semantic_type\": \"\",\n        \"description\": \"\"\n      }\n    },\n    {\n      \"column\": \"Ticket\",\n      \"properties\": {\n        \"dtype\": \"string\",\n        \"num_unique_values\": 681,\n        \"samples\": [\n          \"11774\",\n          \"248740\"\n        ],\n        \"semantic_type\": \"\",\n        \"description\": \"\"\n      }\n    },\n    {\n      \"column\": \"Fare\",\n      \"properties\": {\n        \"dtype\": \"number\",\n        \"std\": 49.693428597180905,\n        \"min\": 0.0,\n        \"max\": 512.3292,\n        \"num_unique_values\": 248,\n        \"samples\": [\n          11.2417,\n          51.8625\n        ],\n        \"semantic_type\": \"\",\n        \"description\": \"\"\n      }\n    },\n    {\n      \"column\": \"Cabin\",\n      \"properties\": {\n        \"dtype\": \"category\",\n        \"num_unique_values\": 147,\n        \"samples\": [\n          \"D45\",\n          \"B49\"\n        ],\n        \"semantic_type\": \"\",\n        \"description\": \"\"\n      }\n    },\n    {\n      \"column\": \"Embarked\",\n      \"properties\": {\n        \"dtype\": \"category\",\n        \"num_unique_values\": 3,\n        \"samples\": [\n          \"S\",\n          \"C\"\n        ],\n        \"semantic_type\": \"\",\n        \"description\": \"\"\n      }\n    }\n  ]\n}"
            }
          },
          "metadata": {},
          "execution_count": 3
        }
      ],
      "source": [
        "from google.colab import files\n",
        "uploaded = files.upload()\n",
        "\n",
        "# Then load it\n",
        "df = pd.read_csv(\"Titanic-Dataset (1).csv\")\n",
        "df.head()\n",
        "\n"
      ]
    },
    {
      "cell_type": "code",
      "source": [
        "# Shape = (rows, columns)\n",
        "print(\"Shape of dataset:\", df.shape)\n",
        "\n",
        "# Info about each column (like type and missing values)\n",
        "print(\"\\n--- Info ---\")\n",
        "print(df.info())\n",
        "\n",
        "# Basic statistics\n",
        "print(\"\\n--- Describe ---\")\n",
        "print(df.describe(include='all'))\n"
      ],
      "metadata": {
        "colab": {
          "base_uri": "https://localhost:8080/"
        },
        "id": "khlwMDVzib8b",
        "outputId": "83d2a9e5-7e41-4b8e-9ac8-523a649a00af"
      },
      "execution_count": 4,
      "outputs": [
        {
          "output_type": "stream",
          "name": "stdout",
          "text": [
            "Shape of dataset: (891, 12)\n",
            "\n",
            "--- Info ---\n",
            "<class 'pandas.core.frame.DataFrame'>\n",
            "RangeIndex: 891 entries, 0 to 890\n",
            "Data columns (total 12 columns):\n",
            " #   Column       Non-Null Count  Dtype  \n",
            "---  ------       --------------  -----  \n",
            " 0   PassengerId  891 non-null    int64  \n",
            " 1   Survived     891 non-null    int64  \n",
            " 2   Pclass       891 non-null    int64  \n",
            " 3   Name         891 non-null    object \n",
            " 4   Sex          891 non-null    object \n",
            " 5   Age          714 non-null    float64\n",
            " 6   SibSp        891 non-null    int64  \n",
            " 7   Parch        891 non-null    int64  \n",
            " 8   Ticket       891 non-null    object \n",
            " 9   Fare         891 non-null    float64\n",
            " 10  Cabin        204 non-null    object \n",
            " 11  Embarked     889 non-null    object \n",
            "dtypes: float64(2), int64(5), object(5)\n",
            "memory usage: 83.7+ KB\n",
            "None\n",
            "\n",
            "--- Describe ---\n",
            "        PassengerId    Survived      Pclass                 Name   Sex  \\\n",
            "count    891.000000  891.000000  891.000000                  891   891   \n",
            "unique          NaN         NaN         NaN                  891     2   \n",
            "top             NaN         NaN         NaN  Dooley, Mr. Patrick  male   \n",
            "freq            NaN         NaN         NaN                    1   577   \n",
            "mean     446.000000    0.383838    2.308642                  NaN   NaN   \n",
            "std      257.353842    0.486592    0.836071                  NaN   NaN   \n",
            "min        1.000000    0.000000    1.000000                  NaN   NaN   \n",
            "25%      223.500000    0.000000    2.000000                  NaN   NaN   \n",
            "50%      446.000000    0.000000    3.000000                  NaN   NaN   \n",
            "75%      668.500000    1.000000    3.000000                  NaN   NaN   \n",
            "max      891.000000    1.000000    3.000000                  NaN   NaN   \n",
            "\n",
            "               Age       SibSp       Parch  Ticket        Fare Cabin Embarked  \n",
            "count   714.000000  891.000000  891.000000     891  891.000000   204      889  \n",
            "unique         NaN         NaN         NaN     681         NaN   147        3  \n",
            "top            NaN         NaN         NaN  347082         NaN    G6        S  \n",
            "freq           NaN         NaN         NaN       7         NaN     4      644  \n",
            "mean     29.699118    0.523008    0.381594     NaN   32.204208   NaN      NaN  \n",
            "std      14.526497    1.102743    0.806057     NaN   49.693429   NaN      NaN  \n",
            "min       0.420000    0.000000    0.000000     NaN    0.000000   NaN      NaN  \n",
            "25%      20.125000    0.000000    0.000000     NaN    7.910400   NaN      NaN  \n",
            "50%      28.000000    0.000000    0.000000     NaN   14.454200   NaN      NaN  \n",
            "75%      38.000000    1.000000    0.000000     NaN   31.000000   NaN      NaN  \n",
            "max      80.000000    8.000000    6.000000     NaN  512.329200   NaN      NaN  \n"
          ]
        }
      ]
    },
    {
      "cell_type": "code",
      "source": [
        "from sklearn.impute import SimpleImputer\n",
        "\n",
        "age_imputer = SimpleImputer(strategy='mean')\n",
        "df['Age'] = age_imputer.fit_transform(df[['Age']])\n"
      ],
      "metadata": {
        "id": "VWZ10g2IkOvK"
      },
      "execution_count": 5,
      "outputs": []
    },
    {
      "cell_type": "code",
      "source": [
        "df['Cabin'] = df['Cabin'].fillna(\"Unknown\")\n"
      ],
      "metadata": {
        "id": "z8WYhvLHkRhK"
      },
      "execution_count": 6,
      "outputs": []
    },
    {
      "cell_type": "code",
      "source": [
        "df['Embarked'] = df['Embarked'].fillna(df['Embarked'].mode()[0])\n"
      ],
      "metadata": {
        "id": "RrPvJqNukUOy"
      },
      "execution_count": 7,
      "outputs": []
    },
    {
      "cell_type": "code",
      "source": [
        "import seaborn as sns\n",
        "import matplotlib.pyplot as plt\n",
        "\n",
        "# Make a countplot of Pclass\n",
        "sns.countplot(x='Pclass', data=df)\n",
        "plt.title('Number of Passengers in Each Class')\n",
        "plt.xlabel('Passenger Class')\n",
        "plt.ylabel('Count')\n",
        "plt.show()\n"
      ],
      "metadata": {
        "colab": {
          "base_uri": "https://localhost:8080/",
          "height": 472
        },
        "id": "nrT-uffUkYAy",
        "outputId": "d658feac-b666-4827-d494-6c2b69e6cbcd"
      },
      "execution_count": 8,
      "outputs": [
        {
          "output_type": "display_data",
          "data": {
            "text/plain": [
              "<Figure size 640x480 with 1 Axes>"
            ],
            "image/png": "[encoded data removed]"
          },
          "metadata": {}
        }
      ]
    },
    {
      "cell_type": "code",
      "source": [
        "female_survivors = df[(df['Sex'] == 'female') & (df['Survived'] == 1)]\n",
        "print(female_survivors['Name'])\n"
      ],
      "metadata": {
        "colab": {
          "base_uri": "https://localhost:8080/"
        },
        "id": "UXtGT_lbkfOa",
        "outputId": "ac22a4e3-8e2c-45d5-a97e-150eb64f65f1"
      },
      "execution_count": 9,
      "outputs": [
        {
          "output_type": "stream",
          "name": "stdout",
          "text": [
            "1      Cumings, Mrs. John Bradley (Florence Briggs Th...\n",
            "2                                 Heikkinen, Miss. Laina\n",
            "3           Futrelle, Mrs. Jacques Heath (Lily May Peel)\n",
            "8      Johnson, Mrs. Oscar W (Elisabeth Vilhelmina Berg)\n",
            "9                    Nasser, Mrs. Nicholas (Adele Achem)\n",
            "                             ...                        \n",
            "874                Abelson, Mrs. Samuel (Hannah Wizosky)\n",
            "875                     Najib, Miss. Adele Kiamie \"Jane\"\n",
            "879        Potter, Mrs. Thomas Jr (Lily Alexenia Wilson)\n",
            "880         Shelley, Mrs. William (Imanita Parrish Hall)\n",
            "887                         Graham, Miss. Margaret Edith\n",
            "Name: Name, Length: 233, dtype: object\n"
          ]
        }
      ]
    },
    {
      "cell_type": "code",
      "source": [
        "young_class3 = df[(df['Pclass'] == 3) & (df['Age'] < 18)]\n",
        "print(young_class3[['Name', 'Age', 'Pclass']])\n"
      ],
      "metadata": {
        "colab": {
          "base_uri": "https://localhost:8080/"
        },
        "id": "JMHY2pqMkpDy",
        "outputId": "3cd2a62c-f61f-42ff-c8c5-2062746ff44f"
      },
      "execution_count": 10,
      "outputs": [
        {
          "output_type": "stream",
          "name": "stdout",
          "text": [
            "                                        Name   Age  Pclass\n",
            "7             Palsson, Master. Gosta Leonard   2.0       3\n",
            "10           Sandstrom, Miss. Marguerite Rut   4.0       3\n",
            "14      Vestrom, Miss. Hulda Amanda Adolfina  14.0       3\n",
            "16                      Rice, Master. Eugene   2.0       3\n",
            "22               McGowan, Miss. Anna \"Annie\"  15.0       3\n",
            "..                                       ...   ...     ...\n",
            "844                      Culumovic, Mr. Jeso  17.0       3\n",
            "850  Andersson, Master. Sigvard Harald Elias   4.0       3\n",
            "852                  Boulos, Miss. Nourelain   9.0       3\n",
            "869          Johnson, Master. Harold Theodor   4.0       3\n",
            "875         Najib, Miss. Adele Kiamie \"Jane\"  15.0       3\n",
            "\n",
            "[78 rows x 3 columns]\n"
          ]
        }
      ]
    },
    {
      "cell_type": "code",
      "source": [
        "older_class1 = df[(df['Pclass'] == 1) & (df['Age'] > 40)]\n",
        "print(older_class1[['Name', 'Age', 'Pclass']])\n"
      ],
      "metadata": {
        "colab": {
          "base_uri": "https://localhost:8080/"
        },
        "id": "-FbMLpg7kv8M",
        "outputId": "b529fddd-2509-4954-fe07-6a9ff3e9969c"
      },
      "execution_count": 11,
      "outputs": [
        {
          "output_type": "stream",
          "name": "stdout",
          "text": [
            "                                                  Name   Age  Pclass\n",
            "6                              McCarthy, Mr. Timothy J  54.0       1\n",
            "11                            Bonnell, Miss. Elizabeth  58.0       1\n",
            "35                      Holverson, Mr. Alexander Oskar  42.0       1\n",
            "52            Harper, Mrs. Henry Sleeper (Myna Haxtun)  49.0       1\n",
            "54                      Ostby, Mr. Engelhart Cornelius  65.0       1\n",
            "..                                                 ...   ...     ...\n",
            "856         Wick, Mrs. George Dennick (Mary Hitchcock)  45.0       1\n",
            "857                             Daly, Mr. Peter Denis   51.0       1\n",
            "862  Swift, Mrs. Frederick Joel (Margaret Welles Ba...  48.0       1\n",
            "871   Beckwith, Mrs. Richard Leonard (Sallie Monypeny)  47.0       1\n",
            "879      Potter, Mrs. Thomas Jr (Lily Alexenia Wilson)  56.0       1\n",
            "\n",
            "[76 rows x 3 columns]\n"
          ]
        }
      ]
    },
    {
      "cell_type": "code",
      "source": [
        "survived_older_class1 = older_class1[older_class1['Survived'] == 1]\n",
        "print(survived_older_class1[['Name', 'Age', 'Survived']])\n"
      ],
      "metadata": {
        "colab": {
          "base_uri": "https://localhost:8080/"
        },
        "id": "QYisiptKk19S",
        "outputId": "0eab784b-82a6-41d1-962a-7494048c25c6"
      },
      "execution_count": 12,
      "outputs": [
        {
          "output_type": "stream",
          "name": "stdout",
          "text": [
            "                                                  Name   Age  Survived\n",
            "11                            Bonnell, Miss. Elizabeth  58.0         1\n",
            "52            Harper, Mrs. Henry Sleeper (Myna Haxtun)  49.0         1\n",
            "187      Romaine, Mr. Charles Hallace (\"Mr C Rolmane\")  45.0         1\n",
            "194          Brown, Mrs. James Joseph (Margaret Tobin)  44.0         1\n",
            "195                               Lurette, Miss. Elise  58.0         1\n",
            "268      Graham, Mrs. William Thompson (Edith Junkins)  58.0         1\n",
            "275                  Andrews, Miss. Kornelia Theodosia  63.0         1\n",
            "299    Baxter, Mrs. James (Helene DeLaudeniere Chaput)  50.0         1\n",
            "337                    Burns, Miss. Elizabeth Margaret  41.0         1\n",
            "366   Warren, Mrs. Frank Manley (Anna Sophia Atkinson)  60.0         1\n",
            "380                              Bidois, Miss. Rosalie  42.0         1\n",
            "449                     Peuchen, Major. Arthur Godfrey  52.0         1\n",
            "453                           Goldenberg, Mr. Samuel L  49.0         1\n",
            "460                                Anderson, Mr. Harry  48.0         1\n",
            "496                     Eustis, Miss. Elizabeth Mussey  54.0         1\n",
            "513     Rothschild, Mrs. Martin (Elizabeth L. Barrett)  54.0         1\n",
            "523    Hippach, Mrs. Louis Albert (Ida Sophia Fischer)  44.0         1\n",
            "556  Duff Gordon, Lady. (Lucille Christiana Sutherl...  48.0         1\n",
            "571      Appleton, Mrs. Edward Dale (Charlotte Lamson)  53.0         1\n",
            "587                   Frolicher-Stehli, Mr. Maxmillian  60.0         1\n",
            "591    Stephenson, Mrs. Walter Bertram (Martha Eustis)  52.0         1\n",
            "599       Duff Gordon, Sir. Cosmo Edmund (\"Mr Morgan\")  49.0         1\n",
            "621                       Kimball, Mr. Edwin Nelson Jr  42.0         1\n",
            "630               Barkworth, Mr. Algernon Henry Wilson  80.0         1\n",
            "645                          Harper, Mr. Henry Sleeper  48.0         1\n",
            "647                Simonius-Blumer, Col. Oberst Alfons  56.0         1\n",
            "660                      Frauenthal, Dr. Henry William  50.0         1\n",
            "707                  Calderhead, Mr. Edward Pennington  42.0         1\n",
            "712                           Taylor, Mr. Elmer Zebley  48.0         1\n",
            "765               Hogeboom, Mrs. John C (Anna Andrews)  51.0         1\n",
            "779  Robert, Mrs. Edward Scott (Elisabeth Walton Mc...  43.0         1\n",
            "796                        Leader, Dr. Alice (Farnham)  49.0         1\n",
            "820  Hays, Mrs. Charles Melville (Clara Jennings Gr...  52.0         1\n",
            "829          Stone, Mrs. George Nelson (Martha Evelyn)  62.0         1\n",
            "856         Wick, Mrs. George Dennick (Mary Hitchcock)  45.0         1\n",
            "857                             Daly, Mr. Peter Denis   51.0         1\n",
            "862  Swift, Mrs. Frederick Joel (Margaret Welles Ba...  48.0         1\n",
            "871   Beckwith, Mrs. Richard Leonard (Sallie Monypeny)  47.0         1\n",
            "879      Potter, Mrs. Thomas Jr (Lily Alexenia Wilson)  56.0         1\n"
          ]
        }
      ]
    },
    {
      "cell_type": "code",
      "source": [
        "rich_males = df[(df['Sex'] == 'male') & (df['Fare'] > 100)]\n",
        "print(rich_males[['Name', 'Sex', 'Fare']])\n"
      ],
      "metadata": {
        "colab": {
          "base_uri": "https://localhost:8080/"
        },
        "id": "85NHDaFok9Ca",
        "outputId": "56b8d655-8648-4e22-8f71-258dd2c26651"
      },
      "execution_count": 13,
      "outputs": [
        {
          "output_type": "stream",
          "name": "stdout",
          "text": [
            "                                           Name   Sex      Fare\n",
            "27               Fortune, Mr. Charles Alexander  male  263.0000\n",
            "118                    Baxter, Mr. Quigg Edmond  male  247.5208\n",
            "305              Allison, Master. Hudson Trevor  male  151.5500\n",
            "332                   Graham, Mr. George Edward  male  153.4625\n",
            "373                         Ringhini, Mr. Sante  male  135.6333\n",
            "377                   Widener, Mr. Harry Elkins  male  211.5000\n",
            "390                  Carter, Mr. William Ernest  male  120.0000\n",
            "438                           Fortune, Mr. Mark  male  263.0000\n",
            "505  Penasco y Castellana, Mr. Victor de Satode  male  108.9000\n",
            "527                          Farthing, Mr. John  male  221.7792\n",
            "544                  Douglas, Mr. Walter Donald  male  106.4250\n",
            "550                 Thayer, Mr. John Borland Jr  male  110.8833\n",
            "557                         Robbins, Mr. Victor  male  227.5250\n",
            "659                  Newell, Mr. Arthur Webster  male  113.2750\n",
            "660               Frauenthal, Dr. Henry William  male  133.6500\n",
            "679          Cardeza, Mr. Thomas Drake Martinez  male  512.3292\n",
            "698                    Thayer, Mr. John Borland  male  110.8833\n",
            "737                      Lesurer, Mr. Gustave J  male  512.3292\n",
            "802         Carter, Master. William Thornton II  male  120.0000\n"
          ]
        }
      ]
    },
    {
      "cell_type": "code",
      "source": [
        "rich_males = df[(df['Sex'] == 'male') & (df['Fare'] > 100)]\n",
        "print(rich_males[['Name', 'Sex', 'Fare']])\n"
      ],
      "metadata": {
        "colab": {
          "base_uri": "https://localhost:8080/"
        },
        "id": "FQEmpA6ElCeC",
        "outputId": "bae8e428-55b0-49af-be07-a3a1a35b578f"
      },
      "execution_count": 14,
      "outputs": [
        {
          "output_type": "stream",
          "name": "stdout",
          "text": [
            "                                           Name   Sex      Fare\n",
            "27               Fortune, Mr. Charles Alexander  male  263.0000\n",
            "118                    Baxter, Mr. Quigg Edmond  male  247.5208\n",
            "305              Allison, Master. Hudson Trevor  male  151.5500\n",
            "332                   Graham, Mr. George Edward  male  153.4625\n",
            "373                         Ringhini, Mr. Sante  male  135.6333\n",
            "377                   Widener, Mr. Harry Elkins  male  211.5000\n",
            "390                  Carter, Mr. William Ernest  male  120.0000\n",
            "438                           Fortune, Mr. Mark  male  263.0000\n",
            "505  Penasco y Castellana, Mr. Victor de Satode  male  108.9000\n",
            "527                          Farthing, Mr. John  male  221.7792\n",
            "544                  Douglas, Mr. Walter Donald  male  106.4250\n",
            "550                 Thayer, Mr. John Borland Jr  male  110.8833\n",
            "557                         Robbins, Mr. Victor  male  227.5250\n",
            "659                  Newell, Mr. Arthur Webster  male  113.2750\n",
            "660               Frauenthal, Dr. Henry William  male  133.6500\n",
            "679          Cardeza, Mr. Thomas Drake Martinez  male  512.3292\n",
            "698                    Thayer, Mr. John Borland  male  110.8833\n",
            "737                      Lesurer, Mr. Gustave J  male  512.3292\n",
            "802         Carter, Master. William Thornton II  male  120.0000\n"
          ]
        }
      ]
    },
    {
      "cell_type": "code",
      "source": [
        "embarked_c_class2 = df[(df['Embarked'] == 'C') & (df['Pclass'] == 2)]\n",
        "print(embarked_c_class2[['Name', 'Embarked', 'Pclass']])\n"
      ],
      "metadata": {
        "colab": {
          "base_uri": "https://localhost:8080/"
        },
        "id": "03OkgFuflO_C",
        "outputId": "02be2eff-7ae2-4d6d-c1c3-e60c881e36b9"
      },
      "execution_count": 15,
      "outputs": [
        {
          "output_type": "stream",
          "name": "stdout",
          "text": [
            "                                                  Name Embarked  Pclass\n",
            "9                  Nasser, Mrs. Nicholas (Adele Achem)        C       2\n",
            "43            Laroche, Miss. Simonne Marie Anne Andree        C       2\n",
            "122                               Nasser, Mr. Nicholas        C       2\n",
            "135                                 Richard, Mr. Emile        C       2\n",
            "181                                   Pernot, Mr. Rene        C       2\n",
            "292                             Levy, Mr. Rene Jacques        C       2\n",
            "308                                Abelson, Mr. Samuel        C       2\n",
            "361                          del Carlo, Mr. Sebastiano        C       2\n",
            "389                              Lehmann, Miss. Bertha        C       2\n",
            "473       Jerwan, Mrs. Amin S (Marie Marthe Thuillard)        C       2\n",
            "547                         Padro y Manent, Mr. Julian        C       2\n",
            "608  Laroche, Mrs. Joseph (Juliette Marie Louise La...        C       2\n",
            "685             Laroche, Mr. Joseph Philippe Lemercier        C       2\n",
            "817                                 Mallet, Mr. Albert        C       2\n",
            "827                              Mallet, Master. Andre        C       2\n",
            "866                       Duran y More, Miss. Asuncion        C       2\n",
            "874              Abelson, Mrs. Samuel (Hannah Wizosky)        C       2\n"
          ]
        }
      ]
    },
    {
      "cell_type": "code",
      "source": [
        "many_siblings = df[df['SibSp'] > 2]\n",
        "print(many_siblings[['Name', 'SibSp']])\n"
      ],
      "metadata": {
        "colab": {
          "base_uri": "https://localhost:8080/"
        },
        "id": "Q-aeP1yFlVCK",
        "outputId": "ab14d17a-723c-46fe-f2fc-6dfd98796e8d"
      },
      "execution_count": 16,
      "outputs": [
        {
          "output_type": "stream",
          "name": "stdout",
          "text": [
            "                                                  Name  SibSp\n",
            "7                       Palsson, Master. Gosta Leonard      3\n",
            "16                                Rice, Master. Eugene      4\n",
            "24                       Palsson, Miss. Torborg Danira      3\n",
            "27                      Fortune, Mr. Charles Alexander      3\n",
            "50                          Panula, Master. Juha Niilo      4\n",
            "59                  Goodwin, Master. William Frederick      5\n",
            "63                               Skoog, Master. Harald      3\n",
            "68                     Andersson, Miss. Erna Alexandra      4\n",
            "71                          Goodwin, Miss. Lillian Amy      5\n",
            "85   Backstrom, Mrs. Karl Alfred (Maria Mathilda Gu...      3\n",
            "88                          Fortune, Miss. Mabel Helen      3\n",
            "119                  Andersson, Miss. Ellis Anna Maria      4\n",
            "159                         Sage, Master. Thomas Henry      8\n",
            "164                       Panula, Master. Eino Viljami      4\n",
            "171                               Rice, Master. Arthur      4\n",
            "176                      Lefebre, Master. Henry Forbes      3\n",
            "180                       Sage, Miss. Constance Gladys      8\n",
            "182              Asplund, Master. Clarence Gustaf Hugo      4\n",
            "201                                Sage, Mr. Frederick      8\n",
            "229                            Lefebre, Miss. Mathilde      3\n",
            "233                     Asplund, Miss. Lillian Gertrud      4\n",
            "261                  Asplund, Master. Edvin Rojj Felix      4\n",
            "266                          Panula, Mr. Ernesti Arvid      4\n",
            "278                                 Rice, Master. Eric      4\n",
            "324                           Sage, Mr. George John Jr      8\n",
            "341                     Fortune, Miss. Alice Elizabeth      3\n",
            "374                         Palsson, Miss. Stina Viola      3\n",
            "386                    Goodwin, Master. Sidney Leonard      5\n",
            "409                                 Lefebre, Miss. Ida      3\n",
            "480                     Goodwin, Master. Harold Victor      5\n",
            "485                             Lefebre, Miss. Jeannie      3\n",
            "541               Andersson, Miss. Ingeborg Constanzia      4\n",
            "542                  Andersson, Miss. Sigrid Elisabeth      4\n",
            "634                                 Skoog, Miss. Mabel      3\n",
            "642                      Skoog, Miss. Margit Elizabeth      3\n",
            "683                        Goodwin, Mr. Charles Edward      5\n",
            "686                           Panula, Mr. Jaako Arnold      4\n",
            "726        Renouf, Mrs. Peter Henry (Lillian Jefferys)      3\n",
            "787                          Rice, Master. George Hugh      4\n",
            "792                            Sage, Miss. Stella Anna      8\n",
            "813                 Andersson, Miss. Ebba Iris Alfrida      4\n",
            "819                       Skoog, Master. Karl Thorsten      3\n",
            "824                       Panula, Master. Urho Abraham      4\n",
            "846                           Sage, Mr. Douglas Bullen      8\n",
            "850            Andersson, Master. Sigvard Harald Elias      4\n",
            "863                  Sage, Miss. Dorothy Edith \"Dolly\"      8\n"
          ]
        }
      ]
    },
    {
      "cell_type": "code",
      "source": [
        "alone_and_died = df[\n",
        "    (df['Survived'] == 0) &\n",
        "    (df['SibSp'] == 0) &\n",
        "    (df['Parch'] == 0)\n",
        "]\n",
        "print(alone_and_died[['Name', 'Survived', 'SibSp', 'Parch']])\n"
      ],
      "metadata": {
        "colab": {
          "base_uri": "https://localhost:8080/"
        },
        "id": "9xHgZhb3lbDS",
        "outputId": "1a65e35d-3e3f-441b-87f1-0d56cd3518df"
      },
      "execution_count": 17,
      "outputs": [
        {
          "output_type": "stream",
          "name": "stdout",
          "text": [
            "                                     Name  Survived  SibSp  Parch\n",
            "4                Allen, Mr. William Henry         0      0      0\n",
            "5                        Moran, Mr. James         0      0      0\n",
            "6                 McCarthy, Mr. Timothy J         0      0      0\n",
            "12         Saundercock, Mr. William Henry         0      0      0\n",
            "14   Vestrom, Miss. Hulda Amanda Adolfina         0      0      0\n",
            "..                                    ...       ...    ...    ...\n",
            "882          Dahlberg, Miss. Gerda Ulrika         0      0      0\n",
            "883         Banfield, Mr. Frederick James         0      0      0\n",
            "884                Sutehall, Mr. Henry Jr         0      0      0\n",
            "886                 Montvila, Rev. Juozas         0      0      0\n",
            "890                   Dooley, Mr. Patrick         0      0      0\n",
            "\n",
            "[374 rows x 4 columns]\n"
          ]
        }
      ]
    },
    {
      "cell_type": "code",
      "source": [
        "oldest_survivors = df[df['Survived'] == 1].sort_values(by='Age', ascending=False).head(5)\n",
        "print(oldest_survivors[['Name', 'Age', 'Survived']])\n"
      ],
      "metadata": {
        "colab": {
          "base_uri": "https://localhost:8080/"
        },
        "id": "dJvEWPt6lgCi",
        "outputId": "4e70005c-7981-44dc-f299-50df51baf3ae"
      },
      "execution_count": 18,
      "outputs": [
        {
          "output_type": "stream",
          "name": "stdout",
          "text": [
            "                                          Name   Age  Survived\n",
            "630       Barkworth, Mr. Algernon Henry Wilson  80.0         1\n",
            "275          Andrews, Miss. Kornelia Theodosia  63.0         1\n",
            "483                     Turkula, Mrs. (Hedwig)  63.0         1\n",
            "570                         Harris, Mr. George  62.0         1\n",
            "829  Stone, Mrs. George Nelson (Martha Evelyn)  62.0         1\n"
          ]
        }
      ]
    },
    {
      "cell_type": "code",
      "source": [
        "free_passengers = df[df['Fare'] == 0]\n",
        "print(free_passengers[['Name', 'Fare']])\n"
      ],
      "metadata": {
        "colab": {
          "base_uri": "https://localhost:8080/"
        },
        "id": "n2W00xaMllgS",
        "outputId": "94f8b9ca-e913-4f0f-e0ca-d1caa160c193"
      },
      "execution_count": 19,
      "outputs": [
        {
          "output_type": "stream",
          "name": "stdout",
          "text": [
            "                                 Name  Fare\n",
            "179               Leonard, Mr. Lionel   0.0\n",
            "263             Harrison, Mr. William   0.0\n",
            "271      Tornquist, Mr. William Henry   0.0\n",
            "277       Parkes, Mr. Francis \"Frank\"   0.0\n",
            "302   Johnson, Mr. William Cahoone Jr   0.0\n",
            "413    Cunningham, Mr. Alfred Fleming   0.0\n",
            "466             Campbell, Mr. William   0.0\n",
            "481  Frost, Mr. Anthony Wood \"Archie\"   0.0\n",
            "597               Johnson, Mr. Alfred   0.0\n",
            "633     Parr, Mr. William Henry Marsh   0.0\n",
            "674        Watson, Mr. Ennis Hastings   0.0\n",
            "732              Knight, Mr. Robert J   0.0\n",
            "806            Andrews, Mr. Thomas Jr   0.0\n",
            "815                  Fry, Mr. Richard   0.0\n",
            "822   Reuchlin, Jonkheer. John George   0.0\n"
          ]
        }
      ]
    },
    {
      "cell_type": "code",
      "source": [
        "from sklearn.model_selection import train_test_split\n",
        "\n",
        "# Split the data: 80% training, 20% testing\n",
        "train, test = train_test_split(df, test_size=0.2, random_state=42)\n",
        "\n",
        "# Show shapes of both sets\n",
        "print(\"Training set shape:\", train.shape)\n",
        "print(\"Testing set shape:\", test.shape)\n"
      ],
      "metadata": {
        "colab": {
          "base_uri": "https://localhost:8080/"
        },
        "id": "w8Ehgd-wlryq",
        "outputId": "f30ff501-f834-48fa-a487-ba27749d1163"
      },
      "execution_count": 20,
      "outputs": [
        {
          "output_type": "stream",
          "name": "stdout",
          "text": [
            "Training set shape: (712, 12)\n",
            "Testing set shape: (179, 12)\n"
          ]
        }
      ]
    }
  ]
}